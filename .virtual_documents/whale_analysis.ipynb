


# Import Libraries

import pandas as pd
import numpy as np
import datetime as dt
from pathlib import Path

%matplotlib inline


# Set csv paths

whale_path = Path('whale_returns.csv')
algo_path = Path('algo_returns.csv')
sp500_path = Path('sp500_history.csv')



# Read csv data

whale_returns = pd.read_csv(whale_path, index_col='Date', parse_dates=True)
algo_returns = pd.read_csv(algo_path, index_col='Date', parse_dates=True)
sp500_history = pd.read_csv(sp500_path, index_col='Date', parse_dates=True, date_format='%d-%b-%y')


# Display the first few rows of each DataFrame to check if the data has been loaded correctly
print("Whale Returns:")
print(whale_returns.head())
print("\nAlgorithmic Trading Returns:")
print(algo_returns.head())
print("\nS&P 500 Historical Prices:")
print(sp500_history.head())










# Reading whale returns
import pandas as pd
from pathlib import Path

whale_path = Path('whale_returns.csv')
whale_returns = pd.read_csv(whale_path, index_col='Date', parse_dates=True)

# Display the first few rows of each DataFrame to check if the data has been loaded correctly
print("Whale Returns:")
print(whale_returns.head())




# Count nulls

whale_returns.isnull().mean() * 100




# Drop nulls
whale_returns = whale_returns.dropna()

# Drop duplicates
whale_returns = whale_returns.drop_duplicates()

# Validate no more missing values
whale_returns.isnull().sum()





# Reading algorithmic returns

import pandas as pd
from pathlib import Path

algo_path = Path('algo_returns.csv')
algo_returns = pd.read_csv(algo_path, index_col='Date', parse_dates=True)

# Display the first few rows of each DataFrame to check if the data has been loaded correctly
print("Algo Returns:")
print(algo_returns.head())


# Count nulls
algo_returns.isnull().mean() * 100


# Drop nulls
algo_returns = algo_returns.dropna()

# Drop duplicates
whale_returns = whale_returns.drop_duplicates()

# Validate no more missing values
whale_returns.isnull().sum()







# Reading S&P 500 Closing Prices
import pandas as pd
from pathlib import Path

sp500_path = Path('sp500_history.csv')
sp500_history = pd.read_csv(sp500_path, index_col='Date', parse_dates=True, date_format='%d-%b-%y')



# Display the first few rows of each DataFrame to check if the data has been loaded correctly
print("S&P 500 Closing Prices:")
print(sp500_history.head())



# Check Data Types



# Fix Data Types



# Calculate Daily Returns



# Drop nulls
sp500_history = sp500_history.dropna()

# Drop duplicates
sp500_history = sp500_history.drop_duplicates()

# Validate no more missing values
sp500_history.isnull().sum()


# Rename `Close` Column to be specific to this portfolio.






# Join Whale Returns, Algorithmic Returns, and the S&P 500 Returns into a single DataFrame with columns for each portfolio's returns.












# Plot daily returns of all portfolios






# Calculate cumulative returns of all portfolios

# Plot cumulative returns












# Box plot to visually show risk






# Calculate the daily standard deviations of all portfolios






# Calculate  the daily standard deviation of S&P 500

# Determine which portfolios are riskier than the S&P 500






# Calculate the annualized standard deviation (252 trading days)












# Calculate the rolling standard deviation for all portfolios using a 21-day window

# Plot the rolling standard deviation






# Calculate the correlation

# Display de correlation matrix






# Calculate covariance of a single portfolio

# Calculate variance of S&P 500

# Computing beta

# Plot beta trend






# Use `ewm` to calculate the rolling window









# Annualized Sharpe Ratios



# Visualize the sharpe ratios as a bar plot















# Reading data from 1st stock



# Reading data from 2nd stock



# Reading data from 3rd stock



# Combine all stocks in a single DataFrame



# Reset Date index



# Reorganize portfolio data by having a column per symbol



# Calculate daily returns

# Drop NAs

# Display sample data






# Set weights
weights = [1/3, 1/3, 1/3]

# Calculate portfolio return

# Display sample data






# Join your returns DataFrame to the original returns DataFrame



# Only compare dates where return data exists for all the stocks (drop NaNs)









# Calculate the annualized `std`






# Calculate rolling standard deviation

# Plot rolling standard deviation






# Calculate and plot the correlation






# Calculate and plot Beta






# Calculate Annualized Sharpe Ratios



# Visualize the sharpe ratios as a bar plot




