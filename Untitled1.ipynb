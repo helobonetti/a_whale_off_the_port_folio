{
 "cells": [
  {
   "cell_type": "code",
   "execution_count": null,
   "id": "dd5bbb28-74a9-475b-bb85-a4b5e257732d",
   "metadata": {},
   "outputs": [],
   "source": [
    "# Plot daily returns of all portfolios\n",
    "\n",
    "import pandas as pd\n",
    "import matplotlib.pyplot as plt\n",
    "\n",
    "merged_df_reset = merged_df.reset_index()\n",
    "\n",
    "plt.figure(figsize=(16,8))\n",
    "plt.plot(merged_df_reset['Date'], merged_df_reset[['SOROS FUND MANAGEMENT LLC', 'PAULSON & CO.INC. ', 'TIGER GLOBAL MANAGEMENT LLC', 'BERKSHIRE HATHAWAY INC', 'Algo 1', 'Algo 2', 'S&P 500']])\n",
    "plt.title('Daily Returns of Portfolios')\n",
    "plt.xlabel('Date')\n",
    "plt.ylabel('Daily Returns')\n",
    "plt.legend(['SOROS', 'PAULSON', 'TIGER', 'BERKSHIRE', 'Algo 1', 'Algo 2', 'S&P 500'])\n",
    "plt.show()"
   ]
  }
 ],
 "metadata": {
  "kernelspec": {
   "display_name": "Python 3 (ipykernel)",
   "language": "python",
   "name": "python3"
  },
  "language_info": {
   "codemirror_mode": {
    "name": "ipython",
    "version": 3
   },
   "file_extension": ".py",
   "mimetype": "text/x-python",
   "name": "python",
   "nbconvert_exporter": "python",
   "pygments_lexer": "ipython3",
   "version": "3.11.5"
  }
 },
 "nbformat": 4,
 "nbformat_minor": 5
}
